{
 "cells": [
  {
   "cell_type": "code",
   "execution_count": 1,
   "metadata": {},
   "outputs": [],
   "source": [
    "import numpy as np\n",
    "import matplotlib\n",
    "import sklearn\n",
    "import pandas"
   ]
  },
  {
   "cell_type": "code",
   "execution_count": 24,
   "metadata": {},
   "outputs": [],
   "source": [
    "# create array, matrix, dataframe\n",
    "a = np.array([1, 2, 3, 4])"
   ]
  },
  {
   "cell_type": "code",
   "execution_count": 25,
   "metadata": {},
   "outputs": [
    {
     "data": {
      "text/plain": [
       "array([1, 2, 3, 4])"
      ]
     },
     "execution_count": 25,
     "metadata": {},
     "output_type": "execute_result"
    }
   ],
   "source": [
    "a"
   ]
  },
  {
   "cell_type": "code",
   "execution_count": 26,
   "metadata": {},
   "outputs": [
    {
     "data": {
      "text/plain": [
       "array([[1, 2],\n",
       "       [3, 4]])"
      ]
     },
     "execution_count": 26,
     "metadata": {},
     "output_type": "execute_result"
    }
   ],
   "source": [
    "b = np.array([[1, 2], [3, 4]])\n",
    "b"
   ]
  },
  {
   "cell_type": "code",
   "execution_count": 27,
   "metadata": {},
   "outputs": [
    {
     "name": "stdout",
     "output_type": "stream",
     "text": [
      "(4,) (2, 2)\n"
     ]
    }
   ],
   "source": [
    "# shape\n",
    "print(a.shape, b.shape)\n"
   ]
  },
  {
   "cell_type": "code",
   "execution_count": 28,
   "metadata": {},
   "outputs": [
    {
     "data": {
      "text/plain": [
       "array([[1],\n",
       "       [2],\n",
       "       [3],\n",
       "       [4]])"
      ]
     },
     "execution_count": 28,
     "metadata": {},
     "output_type": "execute_result"
    }
   ],
   "source": [
    "# reshape\n",
    "c = b.reshape((4, 1))\n",
    "c"
   ]
  },
  {
   "cell_type": "code",
   "execution_count": 31,
   "metadata": {},
   "outputs": [
    {
     "data": {
      "text/plain": [
       "(4, 1)"
      ]
     },
     "execution_count": 31,
     "metadata": {},
     "output_type": "execute_result"
    }
   ],
   "source": [
    "c.shape"
   ]
  },
  {
   "cell_type": "code",
   "execution_count": 32,
   "metadata": {},
   "outputs": [
    {
     "name": "stdout",
     "output_type": "stream",
     "text": [
      "(4,) (2, 2)\n"
     ]
    }
   ],
   "source": [
    "print(a.shape, b.shape)"
   ]
  },
  {
   "cell_type": "code",
   "execution_count": 34,
   "metadata": {},
   "outputs": [
    {
     "data": {
      "text/plain": [
       "(2, 2, 1)"
      ]
     },
     "execution_count": 34,
     "metadata": {},
     "output_type": "execute_result"
    }
   ],
   "source": [
    "d = a.reshape((2, 2, 1))\n",
    "d.shape"
   ]
  },
  {
   "cell_type": "code",
   "execution_count": 4,
   "metadata": {},
   "outputs": [
    {
     "data": {
      "text/plain": [
       "array([1, 2, 3, 4, 5])"
      ]
     },
     "execution_count": 4,
     "metadata": {},
     "output_type": "execute_result"
    }
   ],
   "source": [
    "a = np.array([1, 2, 3])\n",
    "b = np.array([4, 5])\n",
    "\n",
    "c = np.concatenate((a, b))\n",
    "c"
   ]
  },
  {
   "cell_type": "code",
   "execution_count": 5,
   "metadata": {},
   "outputs": [
    {
     "data": {
      "text/plain": [
       "array([ 4, 10, 18])"
      ]
     },
     "execution_count": 5,
     "metadata": {},
     "output_type": "execute_result"
    }
   ],
   "source": [
    "a = np.array([1, 2, 3])\n",
    "b = np.array([4, 5, 6])\n",
    "\n",
    "c = a * b\n",
    "c"
   ]
  },
  {
   "cell_type": "code",
   "execution_count": 19,
   "metadata": {},
   "outputs": [
    {
     "data": {
      "text/plain": [
       "np.float64(10.666666666666666)"
      ]
     },
     "execution_count": 19,
     "metadata": {},
     "output_type": "execute_result"
    }
   ],
   "source": [
    "# normalization\n",
    "mean_c = c.mean()\n",
    "mean_c"
   ]
  },
  {
   "cell_type": "code",
   "execution_count": 21,
   "metadata": {},
   "outputs": [
    {
     "data": {
      "text/plain": [
       "np.float64(5.734883511361751)"
      ]
     },
     "execution_count": 21,
     "metadata": {},
     "output_type": "execute_result"
    }
   ],
   "source": [
    "std_c = np.std(c)\n",
    "std_c"
   ]
  },
  {
   "cell_type": "code",
   "execution_count": 22,
   "metadata": {},
   "outputs": [
    {
     "data": {
      "text/plain": [
       "array([-1.16247639, -0.11624764,  1.27872403])"
      ]
     },
     "execution_count": 22,
     "metadata": {},
     "output_type": "execute_result"
    }
   ],
   "source": [
    "norm_a = (c - mean_c)/std_c\n",
    "norm_a"
   ]
  },
  {
   "cell_type": "code",
   "execution_count": 23,
   "metadata": {},
   "outputs": [
    {
     "data": {
      "text/plain": [
       "np.float64(1.4802973661668753e-16)"
      ]
     },
     "execution_count": 23,
     "metadata": {},
     "output_type": "execute_result"
    }
   ],
   "source": [
    "np.mean(norm_a)"
   ]
  },
  {
   "cell_type": "code",
   "execution_count": 24,
   "metadata": {},
   "outputs": [
    {
     "data": {
      "text/plain": [
       "np.float64(1.0)"
      ]
     },
     "execution_count": 24,
     "metadata": {},
     "output_type": "execute_result"
    }
   ],
   "source": [
    "np.std(norm_a)"
   ]
  },
  {
   "cell_type": "code",
   "execution_count": 25,
   "metadata": {},
   "outputs": [
    {
     "name": "stdout",
     "output_type": "stream",
     "text": [
      "Raw Data:\n",
      " [[1500    2]\n",
      " [2000    3]\n",
      " [3500    4]\n",
      " [1000    2]\n",
      " [2500    3]]\n",
      "\n",
      "Mean of each column: [2100.     2.8]\n",
      "Standard Deviation of each column: [8.60232527e+02 7.48331477e-01]\n",
      "\n",
      "Standardized Data:\n",
      " [[-0.69748583 -1.06904497]\n",
      " [-0.11624764  0.26726124]\n",
      " [ 1.62746694  1.60356745]\n",
      " [-1.27872403 -1.06904497]\n",
      " [ 0.46499055  0.26726124]]\n",
      "\n",
      "Mean of standardized data: [1.11022302e-17 2.22044605e-16]\n",
      "Standard Deviation of standardized data: [1. 1.]\n"
     ]
    }
   ],
   "source": [
    "#Project: Data Standardization\n",
    "import numpy as np\n",
    "\n",
    "# --- Step 1: Define Raw Data ---\n",
    "# Let's imagine we want to predict house prices using two features:\n",
    "# 1. Square footage (large values)\n",
    "# 2. Number of bedrooms (small values)\n",
    "# This difference in scale can negatively impact a model's performance.\n",
    "\n",
    "# Define the raw data array\n",
    "# Column 0: Square footage\n",
    "# Column 1: Number of bedrooms\n",
    "raw_data = np.array([\n",
    "    [1500, 2],\n",
    "    [2000, 3],\n",
    "    [3500, 4],\n",
    "    [1000, 2],\n",
    "    [2500, 3]\n",
    "])\n",
    "print(\"Raw Data:\\n\", raw_data)\n",
    "\n",
    "# --- Step 2: Standardize the Data ---\n",
    "# Standardization transforms the data to have a mean of 0 and a standard deviation of 1.\n",
    "# This ensures all features are on a similar scale.\n",
    "\n",
    "# Calculate the mean and standard deviation for each column (feature)\n",
    "mean_values = np.mean(raw_data, axis=0)\n",
    "std_values = np.std(raw_data, axis=0)\n",
    "\n",
    "print(\"\\nMean of each column:\", mean_values)\n",
    "print(\"Standard Deviation of each column:\", std_values)\n",
    "\n",
    "# Apply the standardization formula: (value - mean) / standard_deviation\n",
    "standardized_data = (raw_data - mean_values) / std_values\n",
    "\n",
    "print(\"\\nStandardized Data:\\n\", standardized_data)\n",
    "\n",
    "# --- Step 3: Verify the Results ---\n",
    "# We can confirm the standardization by checking the mean and standard deviation\n",
    "# of the new, transformed data.\n",
    "\n",
    "# Calculate the mean of the standardized data\n",
    "mean_standardized = np.mean(standardized_data, axis=0)\n",
    "\n",
    "# Calculate the standard deviation of the standardized data\n",
    "std_standardized = np.std(standardized_data, axis=0)\n",
    "\n",
    "print(\"\\nMean of standardized data:\", mean_standardized)\n",
    "print(\"Standard Deviation of standardized data:\", std_standardized)\n",
    "\n",
    "# The output shows means very close to zero and standard deviations of exactly 1.\n",
    "# This confirms that the standardization was successful.\n",
    "# The `standardized_data` is now ready to be used to train a machine learning mod\n",
    "\n",
    "\n"
   ]
  },
  {
   "cell_type": "code",
   "execution_count": null,
   "metadata": {},
   "outputs": [],
   "source": []
  }
 ],
 "metadata": {
  "kernelspec": {
   "display_name": "venv",
   "language": "python",
   "name": "python3"
  },
  "language_info": {
   "codemirror_mode": {
    "name": "ipython",
    "version": 3
   },
   "file_extension": ".py",
   "mimetype": "text/x-python",
   "name": "python",
   "nbconvert_exporter": "python",
   "pygments_lexer": "ipython3",
   "version": "3.11.9"
  }
 },
 "nbformat": 4,
 "nbformat_minor": 2
}
